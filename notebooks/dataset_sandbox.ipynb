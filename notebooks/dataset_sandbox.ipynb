{
 "cells": [
  {
   "cell_type": "code",
   "execution_count": null,
   "id": "e3113d69",
   "metadata": {},
   "outputs": [],
   "source": [
    "import numpy as np"
   ]
  },
  {
   "cell_type": "code",
   "execution_count": null,
   "id": "c6cc2e2d",
   "metadata": {},
   "outputs": [],
   "source": [
    "def make_synthetic_dataset(n: int = 10000, rng_seed: int = 12435):\n",
    "    rng = np.random.RandomState(rng_seed)\n",
    "    \n",
    "    x = rng.uniform(low=-1.0, high=+1.0, size=(n, 3))\n",
    "    \n",
    "    # Simple function for the mean of the target\n",
    "    y_zero_noise = x[:, 0] - x[:, 1]\n",
    "    \n",
    "    # Also simple function for the stddev. Ranges from 1 to 3\n",
    "    sigma = 2.0 + x[:, 2]\n",
    "    eps = sigma * rng.normal(loc=0.0, scale=1.0)\n",
    "    \n",
    "    y_with_noise = y_zero_noise + eps\n",
    "    \n",
    "    return x, y_zero_noise"
   ]
  },
  {
   "cell_type": "code",
   "execution_count": null,
   "id": "f8ac60fe",
   "metadata": {},
   "outputs": [],
   "source": [
    "import torch\n",
    "import torch.nn as nn"
   ]
  },
  {
   "cell_type": "code",
   "execution_count": null,
   "id": "4d127d7e",
   "metadata": {},
   "outputs": [],
   "source": [
    "mu_model = nn.Linear(in_features=2, out_features=1, bias=True)\n",
    "sigma_model = nn.Linear(in_features=2, out_features=1, bias=True)"
   ]
  },
  {
   "cell_type": "code",
   "execution_count": null,
   "id": "dbdb7add",
   "metadata": {},
   "outputs": [],
   "source": [
    "from torch.utils.data import TensorDataset"
   ]
  },
  {
   "cell_type": "code",
   "execution_count": null,
   "id": "dd2cd21d",
   "metadata": {},
   "outputs": [],
   "source": [
    "x_data, y_data = make_synthetic_dataset()\n",
    "dataset = TensorDataset(torch.Tensor(x_data), torch.Tensor(y_data))"
   ]
  },
  {
   "cell_type": "code",
   "execution_count": null,
   "id": "64c6d741",
   "metadata": {},
   "outputs": [],
   "source": []
  }
 ],
 "metadata": {
  "kernelspec": {
   "display_name": "Python 3 (ipykernel)",
   "language": "python",
   "name": "python3"
  },
  "language_info": {
   "codemirror_mode": {
    "name": "ipython",
    "version": 3
   },
   "file_extension": ".py",
   "mimetype": "text/x-python",
   "name": "python",
   "nbconvert_exporter": "python",
   "pygments_lexer": "ipython3",
   "version": "3.8.13"
  }
 },
 "nbformat": 4,
 "nbformat_minor": 5
}
