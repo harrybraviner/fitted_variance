{
 "cells": [
  {
   "cell_type": "code",
   "execution_count": null,
   "id": "bfad14ec",
   "metadata": {},
   "outputs": [],
   "source": [
    "import numpy as np\n",
    "from tqdm import tqdm\n",
    "\n",
    "import torch\n",
    "import torch.nn as nn\n",
    "from torch.utils.data import TensorDataset, DataLoader"
   ]
  },
  {
   "cell_type": "code",
   "execution_count": null,
   "id": "2f4e647f",
   "metadata": {},
   "outputs": [],
   "source": [
    "def make_synthetic_dataset(n: int = 10000, rng_seed: int = 12435):\n",
    "    rng = np.random.RandomState(rng_seed)\n",
    "    \n",
    "    x = rng.uniform(low=-1.0, high=+1.0, size=(n, 3))\n",
    "    \n",
    "    # Simple function for the mean of the target\n",
    "    y_zero_noise = x[:, 0] - x[:, 1]\n",
    "    \n",
    "    # Also simple function for the stddev. Ranges from 1 to 3\n",
    "    sigma = 2.0 + x[:, 2]\n",
    "    eps = sigma * rng.normal(loc=0.0, scale=1.0)\n",
    "    \n",
    "    y_with_noise = y_zero_noise + eps\n",
    "    \n",
    "    return x, y_zero_noise"
   ]
  },
  {
   "cell_type": "code",
   "execution_count": null,
   "id": "89e973ce",
   "metadata": {},
   "outputs": [],
   "source": [
    "mu_model = nn.Linear(in_features=3, out_features=1, bias=True)\n",
    "# FIXME - need to ensure this is non-negative!\n",
    "sigma_model = nn.Linear(in_features=3, out_features=1, bias=True)"
   ]
  },
  {
   "cell_type": "code",
   "execution_count": null,
   "id": "a0f31b55",
   "metadata": {},
   "outputs": [],
   "source": [
    "x_data, y_data = make_synthetic_dataset()\n",
    "dataset = TensorDataset(torch.Tensor(x_data), torch.Tensor(y_data))\n",
    "dataloader = DataLoader(dataset, shuffle=True, batch_size=128)"
   ]
  },
  {
   "cell_type": "code",
   "execution_count": null,
   "id": "34bd53d4",
   "metadata": {},
   "outputs": [],
   "source": [
    "optimizer = torch.optim.SGD(params=(list(mu_model.parameters()) + list(sigma_model.parameters())),\n",
    "                            lr=1e-2)"
   ]
  },
  {
   "cell_type": "code",
   "execution_count": null,
   "id": "a6325304",
   "metadata": {},
   "outputs": [],
   "source": [
    "n_epochs = 10\n",
    "\n",
    "for epoch in tqdm(range(n_epochs)):\n",
    "    # Train\n",
    "    mu_model.train()\n",
    "    sigma_model.train()\n",
    "    \n",
    "    total_loss = 0.0\n",
    "    total_n = 0\n",
    "    \n",
    "    for x, y in iter(dataloader):\n",
    "        y_hat = mu_model.forward(x).squeeze(dim=1)\n",
    "        sigma_hat = sigma_model.forward(x).squeeze(dim=1)\n",
    "\n",
    "        loss = torch.log(sigma_hat) + 0.5 * (sigma_hat**(-2)) * (y - y_hat)**2\n",
    "        \n",
    "        loss = loss.mean(dim=0)\n",
    "        \n",
    "        optimizer.zero_grad()\n",
    "        loss.backward()\n",
    "        optimizer.step()\n",
    "        \n",
    "        total_loss += loss.item()\n",
    "        total_n += x.size(0)\n",
    "    \n",
    "    print(f'Epoch: {epoch}\\tLoss: {loss}')"
   ]
  },
  {
   "cell_type": "code",
   "execution_count": null,
   "id": "f4d4f3d3",
   "metadata": {},
   "outputs": [],
   "source": []
  }
 ],
 "metadata": {
  "kernelspec": {
   "display_name": "Python 3 (ipykernel)",
   "language": "python",
   "name": "python3"
  },
  "language_info": {
   "codemirror_mode": {
    "name": "ipython",
    "version": 3
   },
   "file_extension": ".py",
   "mimetype": "text/x-python",
   "name": "python",
   "nbconvert_exporter": "python",
   "pygments_lexer": "ipython3",
   "version": "3.8.13"
  }
 },
 "nbformat": 4,
 "nbformat_minor": 5
}
