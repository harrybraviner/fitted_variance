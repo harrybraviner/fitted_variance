{
 "cells": [
  {
   "cell_type": "code",
   "execution_count": null,
   "id": "a8b7d241",
   "metadata": {},
   "outputs": [],
   "source": [
    "import numpy as np"
   ]
  },
  {
   "cell_type": "code",
   "execution_count": null,
   "id": "e405fd07",
   "metadata": {},
   "outputs": [],
   "source": [
    "def make_synthetic_dataset(n: int = 10000, rng_seed: int = 12435):\n",
    "    rng = np.random.RandomState(rng_seed)\n",
    "    \n",
    "    x = rng.uniform(low=-1.0, high=+1.0, size=(n, 3))\n",
    "    \n",
    "    # Simple function for the mean of the target\n",
    "    y_zero_noise = x[:, 0] - x[:, 1]\n",
    "    \n",
    "    # Also simple function for the stddev. Ranges from 1 to 3\n",
    "    sigma = 2.0 + x[:, 2]\n",
    "    eps = sigma * rng.normal(loc=0.0, scale=1.0)\n",
    "    \n",
    "    y_with_noise = y_zero_noise + eps\n",
    "    \n",
    "    return x, y_zero_noise"
   ]
  },
  {
   "cell_type": "code",
   "execution_count": null,
   "id": "93f12487",
   "metadata": {},
   "outputs": [],
   "source": [
    "make_synthetic_dataset()"
   ]
  },
  {
   "cell_type": "code",
   "execution_count": null,
   "id": "10eace23",
   "metadata": {},
   "outputs": [],
   "source": []
  }
 ],
 "metadata": {
  "kernelspec": {
   "display_name": "Python 3 (ipykernel)",
   "language": "python",
   "name": "python3"
  },
  "language_info": {
   "codemirror_mode": {
    "name": "ipython",
    "version": 3
   },
   "file_extension": ".py",
   "mimetype": "text/x-python",
   "name": "python",
   "nbconvert_exporter": "python",
   "pygments_lexer": "ipython3",
   "version": "3.8.13"
  }
 },
 "nbformat": 4,
 "nbformat_minor": 5
}
